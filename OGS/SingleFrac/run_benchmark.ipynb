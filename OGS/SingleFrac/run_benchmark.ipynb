{
 "cells": [
  {
   "cell_type": "code",
   "execution_count": 1,
   "id": "dcd33b6b-9420-4431-94e2-c85118f2ba60",
   "metadata": {},
   "outputs": [],
   "source": [
    "import numpy as np\n",
    "import ogs\n",
    "import ogstools as ot\n",
    "import porepy as pp\n",
    "import pyvista as pv\n",
    "from IPython.display import Markdown, display"
   ]
  },
  {
   "cell_type": "code",
   "execution_count": 6,
   "id": "ec5a0114-209e-452d-a5b7-ed9a4ab5df7e",
   "metadata": {},
   "outputs": [
    {
     "name": "stdout",
     "output_type": "stream",
     "text": [
      "output_file not given. Calling it default.prj.\n"
     ]
    }
   ],
   "source": [
    "project = ot.Project(input_file='./1D_AdvectionDiffusionSorptionDecay.prj', out_file=)"
   ]
  },
  {
   "cell_type": "code",
   "execution_count": 7,
   "id": "3e24cf09-3c15-427a-a59a-2ac4cfe3b42a",
   "metadata": {
    "scrolled": true
   },
   "outputs": [
    {
     "name": "stdout",
     "output_type": "stream",
     "text": [
      "Error code: 1\n",
      "info: This is OpenGeoSys-6 version 6.5.5.\n",
      "\n",
      "info: OGS started on 2025-06-03 17:02:34+0200.\n",
      "\n",
      "warning: OMP_NUM_THREADS is not set, falling back to: 22\n",
      "\n",
      "info: Eigen use 22 threads\n",
      "\n",
      "info: Reading project file .\n",
      "\n",
      "error: File default.prj does not exist.\n",
      "\n",
      "critical: /project/BaseLib/PrjProcessing.cpp:314 readAndPatchPrj() \n",
      "\n",
      "error: Could not open project file 'default.prj' for reading.\n",
      "\n",
      "info: OpenGeoSys is now initialized.\n",
      "\n"
     ]
    },
    {
     "ename": "RuntimeError",
     "evalue": "OGS execution was not successful.",
     "output_type": "error",
     "traceback": [
      "\u001b[31m---------------------------------------------------------------------------\u001b[39m",
      "\u001b[31mRuntimeError\u001b[39m                              Traceback (most recent call last)",
      "\u001b[36mCell\u001b[39m\u001b[36m \u001b[39m\u001b[32mIn[7]\u001b[39m\u001b[32m, line 1\u001b[39m\n\u001b[32m----> \u001b[39m\u001b[32m1\u001b[39m \u001b[43mproject\u001b[49m\u001b[43m.\u001b[49m\u001b[43mrun_model\u001b[49m\u001b[43m(\u001b[49m\u001b[43m)\u001b[49m\n",
      "\u001b[36mFile \u001b[39m\u001b[32m~/.venv/lib/python3.13/site-packages/ogstools/ogs6py/project.py:894\u001b[39m, in \u001b[36mProject.run_model\u001b[39m\u001b[34m(self, logfile, path, args, container_path, wrapper, write_logs, write_prj_to_pvd)\u001b[39m\n\u001b[32m    892\u001b[39m \u001b[38;5;28;01melse\u001b[39;00m:\n\u001b[32m    893\u001b[39m     \u001b[38;5;28mprint\u001b[39m(\u001b[33mf\u001b[39m\u001b[33m\"\u001b[39m\u001b[33mError code: \u001b[39m\u001b[38;5;132;01m{\u001b[39;00mreturncode.returncode\u001b[38;5;132;01m}\u001b[39;00m\u001b[33m\"\u001b[39m)\n\u001b[32m--> \u001b[39m\u001b[32m894\u001b[39m     \u001b[38;5;28;43mself\u001b[39;49m\u001b[43m.\u001b[49m\u001b[43m_post_run_1\u001b[49m\u001b[43m(\u001b[49m\u001b[43mwrite_logs\u001b[49m\u001b[43m)\u001b[49m\n",
      "\u001b[36mFile \u001b[39m\u001b[32m~/.venv/lib/python3.13/site-packages/ogstools/ogs6py/project.py:755\u001b[39m, in \u001b[36mProject._post_run_1\u001b[39m\u001b[34m(self, write_logs)\u001b[39m\n\u001b[32m    753\u001b[39m             \u001b[38;5;28mprint\u001b[39m(line)\n\u001b[32m    754\u001b[39m msg = \u001b[33m\"\u001b[39m\u001b[33mOGS execution was not successful.\u001b[39m\u001b[33m\"\u001b[39m\n\u001b[32m--> \u001b[39m\u001b[32m755\u001b[39m \u001b[38;5;28;01mraise\u001b[39;00m \u001b[38;5;167;01mRuntimeError\u001b[39;00m(msg)\n",
      "\u001b[31mRuntimeError\u001b[39m: OGS execution was not successful."
     ]
    }
   ],
   "source": [
    "project.run_model()"
   ]
  },
  {
   "cell_type": "code",
   "execution_count": null,
   "id": "357e001c-6358-4f51-a243-7e5670a9a595",
   "metadata": {},
   "outputs": [],
   "source": []
  }
 ],
 "metadata": {
  "kernelspec": {
   "display_name": "venv",
   "language": "python",
   "name": "venv"
  },
  "language_info": {
   "codemirror_mode": {
    "name": "ipython",
    "version": 3
   },
   "file_extension": ".py",
   "mimetype": "text/x-python",
   "name": "python",
   "nbconvert_exporter": "python",
   "pygments_lexer": "ipython3",
   "version": "3.13.3"
  }
 },
 "nbformat": 4,
 "nbformat_minor": 5
}
