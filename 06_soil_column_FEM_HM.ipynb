{
 "cells": [
  {
   "cell_type": "markdown",
   "metadata": {
    "deletable": false,
    "editable": false
   },
   "source": [
    "<div style=\"display: flex; align-items: center;\">\n",
    "    <img src=\"https://github.com/nagelt/Teaching_Scripts/raw/9d9e29ecca4b04eaf7397938eacbf116d37ddc93/Images/TUBAF_Logo_blau.png\" width=\"500\" height=\"auto\" height=\"auto\" style=\"margin-right: 100px;\" />\n",
    "    <div>\n",
    "        <p><strong>Prof. Dr. Thomas Nagel</strong></p>\n",
    "        <p>Chair of Soil Mechanics and Foundation Engineering<br>Geotechnical Institute<br>Technische Universität Bergakademie Freiberg.</p>\n",
    "        <p><a href=\"https://tu-freiberg.de/en/soilmechanics\">https://tu-freiberg.de/en/soilmechanics</a></p>\n",
    "    </div>\n",
    "</div>"
   ]
  },
  {
   "cell_type": "code",
   "execution_count": 22,
   "metadata": {},
   "outputs": [],
   "source": [
    "import numpy as np\n",
    "import matplotlib.pyplot as plt\n",
    "\n",
    "#Some plot settings\n",
    "%run plot_functions/plot_settings.py"
   ]
  },
  {
   "cell_type": "markdown",
   "metadata": {},
   "source": [
    "# HM coupling in 1D -- liquefaction test\n",
    "\n",
    "## Strong form\n",
    "\n",
    "\\begin{align}\n",
    "    0 &= \\partial_z \\sigma_{zz} + \\gamma_\\text{r} = \\partial_z (\\sigma_{zz}' - p) + \\gamma_\\text{r} = \\partial_z \\left[ E_\\text{s} \\partial_z u_z \\right] - \\partial_z p + \\gamma_\\text{r}\\\\\n",
    "    0 &= \\partial_z (\\dot{u}_z + q_z) = \\partial_z \\dot{u}_z - \\partial_z \\left[ \\frac{k}{\\mu} \\left( \\partial_z p - \\gamma_\\text{w} \\right) \\right]\n",
    "\\end{align}"
   ]
  },
  {
   "cell_type": "markdown",
   "metadata": {},
   "source": [
    "## Weak form\n",
    "\n",
    "The displacements can have (the essential/Dirichlet) boundary conditions in the form:\n",
    "\n",
    "$$\n",
    "    u = \\bar{u}\\ \\forall z \\in \\partial \\Omega_\\mathrm{D}% \\qquad \\text{and} \\qquad - E_\\text{s}A \\frac{\\partial u_z}{\\partial z} = \\bar{F} \\ \\forall z \\in \\partial \\Omega_\\mathrm{N}\n",
    "$$\n",
    "\n",
    "We now introduce a test function $\\delta u$ (virtual displacement) which vanishes where the displacement is given\n",
    "\n",
    "$$\n",
    "    \\delta u = 0\\ \\forall z \\in \\partial \\Omega_\\mathrm{D}\n",
    "$$\n",
    "\n",
    "and construct the weak form of the equilibrium conditions (using integration by parts):\n",
    "\n",
    "\\begin{align}\n",
    "   0 &= \\int \\limits_0^H \\left[\\partial_z \\sigma_{zz} + \\gamma_\\text{r} \\right] \\delta u\\, \\text{d}z\n",
    "   \\\\\n",
    "   &= \\int \\limits_0^H \\left[\\frac{\\partial}{\\partial z} \\left(\\sigma_{zz} \\delta u \\right) - \\partial_z \\delta u \\ \\sigma_{zz}\\, \\partial_z u_z + \\gamma_\\text{r} \\delta u \\right] \\, \\text{d}z\n",
    "\\end{align}"
   ]
  },
  {
   "cell_type": "markdown",
   "metadata": {},
   "source": [
    "Integrating the first term yields the natural/Neumann boundary conditions, so that\n",
    "$$\n",
    "\\left[ \\sigma_{zz} \\delta u \\right]_0^H + \\int \\limits_0^H \\gamma_\\text{r} \\delta u \\text{d}z = \\int \\limits_0^H \\partial_z \\delta u\\ (\\sigma_{zz}' - p)  \\, \\text{d}z\n",
    "$$\n",
    "which is recognised as the principal of virtual work: $\\delta W_\\text{ext} = \\delta W_\\text{int}$."
   ]
  },
  {
   "cell_type": "markdown",
   "metadata": {},
   "source": [
    "The pore pressure can have (the essential/Dirichlet) boundary conditions in the form:\n",
    "\n",
    "$$\n",
    "    p = \\bar{p}\\ \\forall z \\in \\partial \\Omega_\\mathrm{D}% \\qquad \\text{and} \\qquad - E_\\text{s}A \\frac{\\partial u_z}{\\partial z} = \\bar{F} \\ \\forall z \\in \\partial \\Omega_\\mathrm{N}\n",
    "$$\n",
    "\n",
    "We now introduce a test function $\\delta p$ which vanishes where the pressure is given\n",
    "\n",
    "$$\n",
    "    \\delta p = 0\\ \\forall z \\in \\partial \\Omega_\\mathrm{D}\n",
    "$$\n",
    "\n",
    "and construct the weak form of the equilibrium conditions (using integration by parts):\n",
    "\n",
    "\\begin{align}\n",
    "   0 &= \\int \\limits_0^H \\left[\\partial_z (\\dot{u}_z + q_z) \\right] \\delta p\\, \\text{d}z\n",
    "   \\\\\n",
    "   &= \\int \\limits_0^H \\left[ \\partial_z (\\delta p\\, q_z) - q_z \\partial_z \\delta p + \\partial_z \\dot{u}_z \\delta p \\right] \\, \\text{d}z\n",
    "\\end{align}"
   ]
  },
  {
   "cell_type": "markdown",
   "metadata": {},
   "source": [
    "Integrating the first term yields the natural/Neumann boundary conditions, so that\n",
    "$$\n",
    "\\left[ q_z \\delta p \\right]_0^H + \\int \\limits_0^H \\left[ \\delta p\\, \\partial_z \\dot{u}_z - \\partial_z \\delta p\\ q_z \\right] \\, \\text{d}z\n",
    "$$"
   ]
  },
  {
   "cell_type": "markdown",
   "metadata": {},
   "source": [
    "## Finite elements in 1D\n",
    "\n",
    "We first create an element class. An element knows the number of nodes it has, their IDs in the global node vector, and the coordinates of its nodes. Linear elements have 2 nodes and 2 quadrature points, quadratic elements 3 nodes and 3 quadrature points. The natural coordinates of the element run from -1 to 1, and the quadrature points and weights are directly taken from Numpy."
   ]
  },
  {
   "cell_type": "code",
   "execution_count": 23,
   "metadata": {},
   "outputs": [],
   "source": [
    "#element class\n",
    "class line_element():#local coordinates go from -1 to 1\n",
    "    #takes number of nodes, global nodal coordinates, global node ids\n",
    "    def __init__(self, nnodes=2, ncoords=[0.,1.], nids=[0,1]):\n",
    "        self.__nnodes = nnodes\n",
    "        if (len(ncoords) != self.__nnodes):\n",
    "            raise Exception(\"Number of coordinates does not match number \\\n",
    "                            of nodes of element (%i vs of %i)\" %(self.__nnodes,len(ncoords)))\n",
    "        else:\n",
    "            self.__coords = np.array(ncoords)\n",
    "        \n",
    "        self.__natural_coords = (self.__coords-self.__coords[0])/(self.__coords[-1]-self.__coords[0])*2. - 1.\n",
    "        \n",
    "        if (len(nids) != self.__nnodes):\n",
    "            raise Exception(\"Number of node IDs does not match number \\\n",
    "                            of nodes of element (%i vs of %i)\" %(self.__nnodes,len(nids)))\n",
    "        else:\n",
    "            self.__global_ids = np.array(nids)\n",
    "        self.__quad_degree = self.__nnodes\n",
    "        self.__quad_points, self.__quad_weights = np.polynomial.legendre.leggauss(self.__quad_degree)\n",
    "                "
   ]
  },
  {
   "cell_type": "markdown",
   "metadata": {},
   "source": [
    "Next, we wish to generate a one-dimensional mesh by specifying the length of a line, the number of elements into which the mesh is to be split, and the number of nodes per element."
   ]
  },
  {
   "cell_type": "code",
   "execution_count": 24,
   "metadata": {},
   "outputs": [],
   "source": [
    "def number_of_nodes(nelems,nodes_per_elem):\n",
    "    return nelems*nodes_per_elem - (nelems - 1)\n",
    "\n",
    "def generate_node_ids_u(num_iterations):\n",
    "    sequence = []\n",
    "    last_element = 0\n",
    "\n",
    "    for i in range(num_iterations):\n",
    "        if i == 0:\n",
    "            triplet = (0, 1, 2)\n",
    "        elif i == 1:\n",
    "            triplet = (2, 5, 6)\n",
    "        else:\n",
    "            a = last_element\n",
    "            b = a + 2\n",
    "            c = b + 1\n",
    "            triplet = (a, b, c)\n",
    "        \n",
    "        sequence.append(triplet)\n",
    "        last_element = triplet[-1]\n",
    "    return sequence\n",
    "\n",
    "def generate_node_ids_p(num_iterations):\n",
    "    sequence = []\n",
    "    last_element = 3  # Start with the first element as 3\n",
    "\n",
    "    for i in range(num_iterations):\n",
    "        if i == 0:\n",
    "            pair = (3, 4)\n",
    "        else:\n",
    "            a = last_element\n",
    "            b = a + 3\n",
    "            pair = (a, b)\n",
    "        \n",
    "        sequence.append(pair)\n",
    "        last_element = pair[-1]\n",
    "    return sequence\n",
    "\n",
    "def generate_mesh(domain_length,nelems,nodes_per_elem):\n",
    "    nn = number_of_nodes(nelems,nodes_per_elem)\n",
    "    #coordinate vector of global nodes\n",
    "    global_nodal_coordinates = np.linspace(0.,domain_length,nn)\n",
    "    global_solution = np.array([0.]*nn)\n",
    "    \n",
    "    #generate elements\n",
    "    element_vector = []\n",
    "    if (nodes_per_elem == 3):\n",
    "        node_ids = generate_node_ids_u(nelems)\n",
    "    else:\n",
    "        node_ids = generate_node_ids_p(nelems)\n",
    "    for i in range(nelems):\n",
    "        node_start = (nodes_per_elem-1)*i\n",
    "        node_start_id = (2*nodes_per_elem-2)*i\n",
    "        element_vector.append(\n",
    "            line_element(nodes_per_elem,\n",
    "                         global_nodal_coordinates[node_start:node_start+nodes_per_elem],\n",
    "                         node_ids[i]))\n",
    "        \n",
    "    return global_nodal_coordinates, element_vector, global_solution"
   ]
  },
  {
   "cell_type": "markdown",
   "metadata": {},
   "source": [
    "Let's put this to test."
   ]
  },
  {
   "cell_type": "code",
   "execution_count": 25,
   "metadata": {},
   "outputs": [],
   "source": [
    "number_of_elements = 20\n",
    "L = 10.\n",
    "nodes_per_element = 3\n",
    "\n",
    "nodes_u,elements_u,solution_u=generate_mesh(L,number_of_elements,nodes_per_element)\n",
    "nodes_p,elements_p,solution_p=generate_mesh(L,number_of_elements,nodes_per_element-1)\n",
    "solution = np.append(solution_u,solution_p)"
   ]
  },
  {
   "cell_type": "code",
   "execution_count": 26,
   "metadata": {},
   "outputs": [
    {
     "data": {
      "image/png": "[encoded data removed]",
      "text/plain": [
       "<Figure size 800x600 with 1 Axes>"
      ]
     },
     "metadata": {},
     "output_type": "display_data"
    }
   ],
   "source": [
    "plt.xlabel('$z$')\n",
    "plt.ylabel('element ID')\n",
    "plt.title('Finite element mesh for $u$')\n",
    "for i,elem in enumerate(elements_u):\n",
    "    if (i==0):\n",
    "        plt.plot(elem._line_element__coords,[i]*elem._line_element__nnodes, 'bs-', label='elements')\n",
    "    else:\n",
    "        plt.plot(elem._line_element__coords,[i]*elem._line_element__nnodes, 'bs-')\n",
    "    for k in range(elem._line_element__nnodes):\n",
    "        plt.text(elem._line_element__coords[k],i+0.5,str(elem._line_element__global_ids[k]),size=7)\n",
    "plt.plot(nodes_u, [0]*len(nodes_u), 'ro ', label='nodes')\n",
    "plt.legend();"
   ]
  },
  {
   "cell_type": "code",
   "execution_count": 27,
   "metadata": {},
   "outputs": [
    {
     "data": {
      "image/png": "[encoded data removed]",
      "text/plain": [
       "<Figure size 800x600 with 1 Axes>"
      ]
     },
     "metadata": {},
     "output_type": "display_data"
    }
   ],
   "source": [
    "plt.xlabel('$z$')\n",
    "plt.ylabel('element ID')\n",
    "plt.title('Finite element mesh for $p$')\n",
    "for i,elem in enumerate(elements_p):\n",
    "    if (i==0):\n",
    "        plt.plot(elem._line_element__coords,[i]*elem._line_element__nnodes, 'bs-', label='elements')\n",
    "    else:\n",
    "        plt.plot(elem._line_element__coords,[i]*elem._line_element__nnodes, 'bs-')\n",
    "    for k in range(elem._line_element__nnodes):\n",
    "        plt.text(elem._line_element__coords[k],i+0.5,str(elem._line_element__global_ids[k]),size=7)\n",
    "plt.plot(nodes_p, [0]*len(nodes_p), 'ro ', label='nodes')\n",
    "plt.legend();"
   ]
  },
  {
   "cell_type": "code",
   "execution_count": 28,
   "metadata": {},
   "outputs": [],
   "source": [
    "#N\n",
    "def shape_function(element_order,xi):\n",
    "    if (element_order == 2): #-1,1\n",
    "            return np.array([(1.-xi)/2., (1.+xi)/2.])\n",
    "    elif (element_order == 3): #-1, 0, 1\n",
    "            return np.array([(xi - 1.)*xi/2., (1-xi)*(1+xi), (1+xi)*xi/2.])\n",
    "#dN_dxi\n",
    "def dshape_function_dxi(element_order,xi):\n",
    "    if (element_order == 2): #-1,1\n",
    "        return np.array([-0.5, 0.5])  #xi only later for plotting dimensions\n",
    "    elif (element_order == 3):#-1,0,1\n",
    "        return np.array([xi - 0.5,-2.*xi,xi + 0.5])\n",
    "\n",
    "#dz_dxi\n",
    "def element_jacobian(element,xi):\n",
    "    element_order = element._line_element__nnodes\n",
    "    Jacobian = 0.\n",
    "    Jacobian += dshape_function_dxi(element_order,xi).dot(element._line_element__coords)\n",
    "    return Jacobian\n",
    "\n",
    "#dN_dz\n",
    "def grad_shape_function(element,xi):\n",
    "    element_order = element._line_element__nnodes\n",
    "    Jac = element_jacobian(element,xi)\n",
    "    return dshape_function_dxi(element_order,xi)/Jac\n"
   ]
  },
  {
   "cell_type": "markdown",
   "metadata": {},
   "source": [
    "## Discretization of virtual work (weak form)\n",
    "\n",
    "The discretized system is given as\n",
    "\n",
    "\\begin{align}\n",
    "    {\\sigma}_{zz}(z=H)\\delta_{in_\\text{n}} - {\\sigma}_{zz}(z=0) \\delta_{i0} + \\bigcup \\limits_{e=1}^{n_\\text{el}} \\int \\limits_{z_e} \\gamma_\\text{r} N^u_i \\det J \\, \\text{d}\\xi &= \\bigcup \\limits_{e=1}^{n_\\text{el}} \\int \\limits_{z_e} \\nabla N_i^u (\\sigma_{zz}' - p)\\det J  \\, \\text{d}\\xi\n",
    "    \\\\\n",
    "    {q}_{z}(z=H)\\delta_{in_\\text{n}} - {q}_{z}(z=0) \\delta_{i0} &= \\bigcup \\limits_{e=1}^{n_\\text{el}} \\int \\limits_{z_e} \\nabla N_i^p q_z \\det J  \\, \\text{d}\\xi - \\bigcup \\limits_{e=1}^{n_\\text{el}} \\int \\limits_{z_e} N_i^p \\frac{\\partial_z u_z - \\partial_z u_z^\\text{prev}}{\\Delta t} \\det J  \\, \\text{d}\\xi \n",
    "\\end{align}"
   ]
  },
  {
   "cell_type": "markdown",
   "metadata": {},
   "source": [
    "What we require now is the local assembler to calculate the stiffness matrix and the local right-hand side. Local integration is performed by Gauss quadrature:\n",
    "\n",
    "$$\n",
    "    \\int \\limits_{-1}^1 f(\\xi)\\,\\text{d}\\xi \\approx \\sum \\limits_{i=1}^{n_\\text{gp}} f(\\xi_i) w_i \n",
    "$$"
   ]
  },
  {
   "cell_type": "markdown",
   "metadata": {},
   "source": [
    "## Local assember"
   ]
  },
  {
   "cell_type": "code",
   "execution_count": 29,
   "metadata": {},
   "outputs": [],
   "source": [
    "def Stiffness(z):\n",
    "    return 1e8\n",
    "\n",
    "def gamma_r(z):\n",
    "    n=0.4\n",
    "    return 26000.*(1.-n) + 10000.*n #kg/m³\n",
    "\n",
    "def gamma_w():\n",
    "    return 10000.\n",
    "\n",
    "def Conductivity(z):\n",
    "    return 1e-12/1e-3"
   ]
  },
  {
   "cell_type": "code",
   "execution_count": null,
   "metadata": {},
   "outputs": [],
   "source": [
    "def local_assembler_res(elem_u,elem_p,sol_u,sol_p,sol_u_prev,sol_p_prev,dt):\n",
    "    element_order = elem_u._line_element__nnodes\n",
    "    res_loc = np.zeros(2*element_order-1)\n",
    "    z_nodes = elem_u._line_element__coords\n",
    "    for i in range(elem_u._line_element__quad_degree):\n",
    "        #local integration point coordinate\n",
    "        xi = elem_u._line_element__quad_points[i]\n",
    "        #shape function\n",
    "        N_u = shape_function(element_order,xi)\n",
    "        N_p = shape_function(element_order-1,xi)\n",
    "        #gradient of shape function\n",
    "        dN_u_dX = grad_shape_function(elem_u,xi)\n",
    "        dN_p_dX = grad_shape_function(elem_p,xi)\n",
    "        #determinant of Jacobian\n",
    "        detJ = np.abs(element_jacobian(elem_u,xi))\n",
    "        #integration weight\n",
    "        w = elem_u._line_element__quad_weights[i]        \n",
    "        #global integration point coordinate (for spatially varying properties)\n",
    "        z_glob = np.dot(N_u,z_nodes)\n",
    "        #evaluation of local material/structural properties\n",
    "        E = Stiffness(z_glob)\n",
    "        k_over_mu = Conductivity(z_glob)\n",
    "        #evaluation of local body force contributions\n",
    "        gr = gamma_r(z_glob)\n",
    "        gw = gamma_w()\n",
    "        \n",
    "        #flux quantities\n",
    "        \n",
    "        q_z = - k_over_mu * (np.dot(dN_p_dX,sol_p) - gw)\n",
    "        s_z = E * np.dot(dN_u_dX,sol_u) - np.dot(N_p,sol_p)\n",
    "        e_vol_dot = (np.dot(dN_u_dX,sol_u) - np.dot(dN_u_dX,sol_u_prev)) / dt\n",
    "           \n",
    "        res_u = dN_u_dX*s_z - N_u*gr\n",
    "        res_p = dN_p_dX*q_z - N_p * e_vol_dot\n",
    "        \n",
    "        #assembly of local RHS\n",
    "        res_loc += np.block([res_u, res_p]) * w * detJ\n",
    "    return res_loc"
   ]
  },
  {
   "cell_type": "code",
   "execution_count": 61,
   "metadata": {},
   "outputs": [],
   "source": [
    "epsilon = lambda p: np.maximum(1e-8,1e-8*p)\n",
    "\n",
    "# could use forward differences to safe one set of evaluations\n",
    "def local_assembler_Jac(elem_u,elem_p,sol_u,sol_p,sol_u_prev,sol_p_prev,dt):\n",
    "    element_order = elem_u._line_element__nnodes\n",
    "    Jac = np.zeros((2*element_order-1,2*element_order-1))\n",
    "    r0 = local_assembler_res(elem_u,elem_p,sol_u,sol_p,sol_u_prev,sol_p_prev,dt)\n",
    "    sol = np.append(sol_u,sol_p)\n",
    "    for j in range(len(sol)):\n",
    "        upper_up = np.copy(sol)\n",
    "        eps = epsilon(upper_up[j])\n",
    "        upper_up[j] += eps\n",
    "        Jac[:,j] = (local_assembler_res(elem_u,elem_p,upper_up[0:len(sol_u)],\n",
    "                                        upper_up[len(sol_u):],sol_u_prev,sol_p_prev,dt)\n",
    "                    - r0)/eps\n",
    "    return Jac, r0"
   ]
  },
  {
   "cell_type": "code",
   "execution_count": 62,
   "metadata": {},
   "outputs": [],
   "source": [
    "elem_u = elements_u[1]\n",
    "elem_p = elements_p[1]\n",
    "\n",
    "sol_u = np.array([elem_u._line_element__global_ids[0], \n",
    "                  elem_u._line_element__global_ids[1], \n",
    "                  elem_u._line_element__global_ids[2]])\n",
    "\n",
    "sol_p = np.array([elem_p._line_element__global_ids[0], \n",
    "                  elem_p._line_element__global_ids[1]])"
   ]
  },
  {
   "cell_type": "code",
   "execution_count": 63,
   "metadata": {},
   "outputs": [
    {
     "data": {
      "text/plain": [
       "array([-1.33333496e+09,  1.06666014e+09,  2.66665027e+08,  2.66656673e-01,\n",
       "        1.33343327e-01])"
      ]
     },
     "execution_count": 63,
     "metadata": {},
     "output_type": "execute_result"
    }
   ],
   "source": [
    "local_assembler_res(elem_u,elem_p,sol_u,sol_p, sol_u*1.1,sol_p*1.1,1)"
   ]
  },
  {
   "cell_type": "code",
   "execution_count": 64,
   "metadata": {},
   "outputs": [
    {
     "data": {
      "text/plain": [
       "(array([[0., 0., 0., 0., 0.],\n",
       "        [0., 0., 0., 0., 0.],\n",
       "        [0., 0., 0., 0., 0.],\n",
       "        [0., 0., 0., 0., 0.],\n",
       "        [0., 0., 0., 0., 0.]]),\n",
       " array([-1.33333496e+09,  1.06666014e+09,  2.66665027e+08,  2.66656673e-01,\n",
       "         1.33343327e-01]))"
      ]
     },
     "execution_count": 64,
     "metadata": {},
     "output_type": "execute_result"
    }
   ],
   "source": [
    "local_assembler_Jac(elem_u,elem_p,sol_u,sol_p, sol_u*1.1,sol_p*1.1,1)"
   ]
  },
  {
   "cell_type": "markdown",
   "metadata": {},
   "source": [
    "## Global assembly\n",
    "\n",
    "Now we can construct the global matrix system $\\mathbf{K}\\mathbf{u} = \\mathbf{f}$ or $\\mathbf{A}\\mathbf{x}=\\mathbf{b}$ (see lecture script)."
   ]
  },
  {
   "cell_type": "code",
   "execution_count": 78,
   "metadata": {},
   "outputs": [],
   "source": [
    "def global_assembler(nodes_u,elements_u,elements_p,solution,solution_prev,dt):\n",
    "    K_glob = np.zeros((len(solution),len(solution)))\n",
    "    b_glob = np.zeros(len(solution))\n",
    "    for i,elem in enumerate(elements_u):\n",
    "        #DOF table\n",
    "        IDs_u = elem_u._line_element__global_ids\n",
    "        IDs_p = elements_p[i]._line_element__global_ids\n",
    "        #\n",
    "        el_sol_u = np.array([solution[IDs_u[0]], solution[IDs_u[1]], solution[IDs_u[2]]])\n",
    "        el_sol_u_prev = np.array([solution_prev[IDs_u[0]], solution_prev[IDs_u[1]], solution_prev[IDs_u[2]]])\n",
    "        el_sol_p = np.array([solution[IDs_p[0]], solution[IDs_p[1]]])\n",
    "        el_sol_p_prev = np.array([solution_prev[IDs_p[0]], solution_prev[IDs_p[1]]])\n",
    "        \n",
    "        K_i, b_i = local_assembler_Jac(elem,elements_p[i],el_sol_u,el_sol_p,el_sol_u_prev,el_sol_p_prev,dt)\n",
    "        for j in range(3):\n",
    "            b_glob[elem._line_element__global_ids[j]] += b_i[j]\n",
    "            for k in range(3):\n",
    "                K_glob[elem._line_element__global_ids[j],elem._line_element__global_ids[k]] += K_i[j,k]\n",
    "        for j in range(2):\n",
    "            b_glob[elements_p[i]._line_element__global_ids[j]] += b_i[j+3]\n",
    "            for k in range(2):\n",
    "                K_glob[elements_p[i]._line_element__global_ids[j],elements_p[i]._line_element__global_ids[k]] += K_i[j+3,k+3]\n",
    "            \n",
    "    return K_glob, b_glob"
   ]
  },
  {
   "cell_type": "code",
   "execution_count": 79,
   "metadata": {},
   "outputs": [
    {
     "data": {
      "image/png": "[encoded data removed]",
      "text/plain": [
       "<Figure size 800x600 with 1 Axes>"
      ]
     },
     "metadata": {},
     "output_type": "display_data"
    }
   ],
   "source": [
    "K, f = global_assembler(nodes_u,elements_u,elements_p,solution,solution*1.1,1)\n",
    "plt.spy(K,marker='.')\n",
    "plt.title('sparsity pattern')\n",
    "plt.tight_layout()"
   ]
  },
  {
   "cell_type": "markdown",
   "metadata": {},
   "source": [
    "## Application of boundary conditions\n",
    "\n",
    "Now we apply the natural (Neumann, nodal force) and the essential (Dirichlet, nodal displacement) boundary conditions.\n",
    "\n",
    "A nodal force $F_\\text{bc}$ at node $m$ is simply added by\n",
    "$$\n",
    "    F^\\text{ext}_i = \\left(\n",
    "        \\begin{array}{c}\n",
    "            F_0\\\\ F_1\\\\ \\vdots\\\\ F_m \\\\ \\vdots \\\\ F_{n_\\text{n}}\n",
    "        \\end{array}\n",
    "    \\right)\n",
    "     = F_i^\\text{body} + F_\\text{bc} \\delta_{im} = F_i^\\text{body} + F_\\text{bc}\n",
    "     \\left(\n",
    "        \\begin{array}{c}\n",
    "            0\\\\ 0\\\\ \\vdots \\\\ 1 \\\\ \\vdots \\\\ 0\n",
    "        \\end{array}\n",
    "    \\right)\n",
    "$$"
   ]
  },
  {
   "cell_type": "code",
   "execution_count": null,
   "metadata": {},
   "outputs": [],
   "source": [
    "def apply_Neumann_bc(b_glob,node_id,value):\n",
    "    b_glob[node_id] += value\n",
    "    return b_glob"
   ]
  },
  {
   "cell_type": "markdown",
   "metadata": {},
   "source": [
    "A Dirichlet boundary condition is introduced via\n",
    "\n",
    "$b_0 \\leftarrow K_{0,0}(u_0 - \\bar{u})$ so that $\\Delta u_0 = \\bar{u} - u_0$ and matrix condition number is not changed.\n",
    "\n",
    "$b_{i \\neq 0} \\leftarrow b_{i\\neq 0} - K_{i,0} (u_0 - \\bar{u})$\n",
    "\n",
    "$K_{0,i\\neq 0} = K_{i\\neq 0,0} \\leftarrow 0$ \n",
    "\n",
    "This preserves $K_{ij} = K_{ji}$"
   ]
  },
  {
   "cell_type": "code",
   "execution_count": null,
   "metadata": {},
   "outputs": [],
   "source": [
    "#adapted to incremental scheme\n",
    "def apply_Dirichlet_bc(K_glob,b_glob,solution,node_id,value):\n",
    "    c = K_glob[node_id,node_id]\n",
    "    target = solution[node_id] - value\n",
    "    \n",
    "    for i in range(len(b_glob)):\n",
    "        b_glob[i] -= K_glob[i,node_id] * target\n",
    "        b_glob[node_id] = c*target #no increment\n",
    "    K_glob[node_id,:] = 0.\n",
    "    K_glob[:,node_id] = 0.\n",
    "    \n",
    "    if (c != 0):\n",
    "        K_glob[node_id,node_id] = c\n",
    "    else: \n",
    "        K_glob[node_id,node_id] = 1.\n",
    "        c = 1.\n",
    "\n",
    "    #solution[node_id] = value\n",
    "    return K_glob, b_glob, solution"
   ]
  },
  {
   "cell_type": "markdown",
   "metadata": {},
   "source": [
    "## Problem solution\n",
    "\n",
    "We now perform the global assembly, apply a vanishing traction on the top and constrain the displacement at the bottom to zero."
   ]
  },
  {
   "cell_type": "code",
   "execution_count": null,
   "metadata": {},
   "outputs": [],
   "source": [
    "f = apply_Neumann_bc(f,len(nodes)-1,0)"
   ]
  },
  {
   "cell_type": "code",
   "execution_count": null,
   "metadata": {},
   "outputs": [],
   "source": [
    "K, f = apply_Dirichlet_bc(K, f, 0, -1.)"
   ]
  },
  {
   "cell_type": "code",
   "execution_count": null,
   "metadata": {},
   "outputs": [],
   "source": [
    "solution = np.linalg.solve(K,f)"
   ]
  },
  {
   "cell_type": "code",
   "execution_count": null,
   "metadata": {},
   "outputs": [],
   "source": [
    "reference_z = np.linspace(0,L,100)\n",
    "reference_solution = ((reference_z/L)**2 - 2.*reference_z/L) * BodyForce(0) * L**2 / (2.*Stiffness(0))"
   ]
  },
  {
   "cell_type": "code",
   "execution_count": null,
   "metadata": {},
   "outputs": [],
   "source": [
    "plt.ylabel('$z$ / m')\n",
    "plt.xlabel('$-u_z$ / mm')\n",
    "plt.title('Finite element solution')\n",
    "plt.plot(-solution*1e3, nodes, 'ro-', label='FEM')\n",
    "plt.plot(reference_solution*1e3, reference_z, ls='--', color='black', label='analytical')\n",
    "plt.legend();"
   ]
  }
 ],
 "metadata": {
  "kernelspec": {
   "display_name": "Python 3 (ipykernel)",
   "language": "python",
   "name": "python3"
  },
  "language_info": {
   "codemirror_mode": {
    "name": "ipython",
    "version": 3
   },
   "file_extension": ".py",
   "mimetype": "text/x-python",
   "name": "python",
   "nbconvert_exporter": "python",
   "pygments_lexer": "ipython3",
   "version": "3.11.4"
  },
  "widgets": {
   "application/vnd.jupyter.widget-state+json": {
    "state": {},
    "version_major": 2,
    "version_minor": 0
   }
  }
 },
 "nbformat": 4,
 "nbformat_minor": 4
}
