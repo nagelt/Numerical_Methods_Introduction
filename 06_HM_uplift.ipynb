{
 "cells": [
  {
   "cell_type": "markdown",
   "metadata": {
    "deletable": false,
    "editable": false
   },
   "source": [
    "<div style=\"display: flex; align-items: center;\">\n",
    "    <img src=\"https://github.com/nagelt/Teaching_Scripts/raw/9d9e29ecca4b04eaf7397938eacbf116d37ddc93/Images/TUBAF_Logo_blau.png\" width=\"500\" height=\"auto\" height=\"auto\" style=\"margin-right: 100px;\" />\n",
    "    <div>\n",
    "        <p><strong>Prof. Dr. Thomas Nagel</strong></p>\n",
    "        <p>Chair of Soil Mechanics and Foundation Engineering<br>Geotechnical Institute<br>Technische Universität Bergakademie Freiberg.</p>\n",
    "        <p><a href=\"https://tu-freiberg.de/en/soilmechanics\">https://tu-freiberg.de/en/soilmechanics</a></p>\n",
    "    </div>\n",
    "</div>"
   ]
  },
  {
   "cell_type": "code",
   "execution_count": 1,
   "metadata": {},
   "outputs": [],
   "source": [
    "import numpy as np\n",
    "import matplotlib.pyplot as plt\n",
    "import scipy as sp\n",
    "import sympy as symp\n",
    "from pypardiso import spsolve\n",
    "\n",
    "#Some plot settings\n",
    "%run plot_functions/plot_settings.py"
   ]
  },
  {
   "cell_type": "markdown",
   "metadata": {},
   "source": [
    "# HM coupling in 1D -- liquefaction test\n",
    "\n",
    "## Strong form\n",
    "\n",
    "\\begin{align}\n",
    "    0 &= \\partial_z \\sigma_{zz} + \\gamma_\\text{r} = \\partial_z (\\sigma_{zz}' - p) + \\gamma_\\text{r} = \\partial_z \\left[ E_\\text{s} \\partial_z u_z \\right] - \\partial_z p + \\gamma_\\text{r}\\\\\n",
    "    0 &= n\\beta_p \\dot{p} + \\partial_z (\\dot{u}_z + q_z) = n\\beta_p \\dot{p} + \\partial_z \\dot{u}_z - \\partial_z \\left[ \\frac{k}{\\mu} \\left( \\partial_z p - \\vec{\\gamma}_\\text{w} \\right) \\right]\n",
    "\\end{align}"
   ]
  },
  {
   "cell_type": "markdown",
   "metadata": {},
   "source": [
    "## Weak form\n",
    "\n",
    "The displacements can have (the essential/Dirichlet) boundary conditions in the form:\n",
    "\n",
    "$$\n",
    "    u = \\bar{u}\\ \\forall z \\in \\partial \\Omega_\\mathrm{D}% \\qquad \\text{and} \\qquad - E_\\text{s}A \\frac{\\partial u_z}{\\partial z} = \\bar{F} \\ \\forall z \\in \\partial \\Omega_\\mathrm{N}\n",
    "$$\n",
    "\n",
    "We now introduce a test function $\\delta u$ (virtual displacement) which vanishes where the displacement is given\n",
    "\n",
    "$$\n",
    "    \\delta u = 0\\ \\forall z \\in \\partial \\Omega_\\mathrm{D}\n",
    "$$\n",
    "\n",
    "and construct the weak form of the equilibrium conditions (using integration by parts):\n",
    "\n",
    "\\begin{align}\n",
    "   0 &= \\int \\limits_0^H \\left[\\partial_z \\sigma_{zz} + \\gamma_\\text{r} \\right] \\delta u\\, \\text{d}z\n",
    "   \\\\\n",
    "   &= \\int \\limits_0^H \\left[\\frac{\\partial}{\\partial z} \\left(\\sigma_{zz} \\delta u \\right) - \\partial_z \\delta u \\ \\sigma_{zz} + \\gamma_\\text{r} \\delta u \\right] \\, \\text{d}z\n",
    "\\end{align}"
   ]
  },
  {
   "cell_type": "markdown",
   "metadata": {},
   "source": [
    "Integrating the first term yields the natural/Neumann boundary conditions, so that\n",
    "$$\n",
    "\\left[ \\sigma_{zz} \\delta u \\right]_0^H + \\int \\limits_0^H \\gamma_\\text{r} \\delta u \\text{d}z = \\int \\limits_0^H \\partial_z \\delta u\\ (\\sigma_{zz}' - p)  \\, \\text{d}z\n",
    "$$\n",
    "which is recognised as the principal of virtual work: $\\delta W_\\text{ext} = \\delta W_\\text{int}$."
   ]
  },
  {
   "cell_type": "markdown",
   "metadata": {
    "tags": []
   },
   "source": [
    "The pore pressure can have (the essential/Dirichlet) boundary conditions in the form:\n",
    "\n",
    "$$\n",
    "    p = \\bar{p}\\ \\forall z \\in \\partial \\Omega_\\mathrm{D}% \\qquad \\text{and} \\qquad - E_\\text{s}A \\frac{\\partial u_z}{\\partial z} = \\bar{F} \\ \\forall z \\in \\partial \\Omega_\\mathrm{N}\n",
    "$$\n",
    "\n",
    "We now introduce a test function $\\delta p$ which vanishes where the pressure is given\n",
    "\n",
    "$$\n",
    "    \\delta p = 0\\ \\forall z \\in \\partial \\Omega_\\mathrm{D}\n",
    "$$\n",
    "\n",
    "and construct the weak form of the equilibrium conditions (using integration by parts):\n",
    "\n",
    "\\begin{align}\n",
    "   0 &= \\int \\limits_0^H \\left[n\\beta_p \\dot{p} + \\partial_z (\\dot{u}_z + q_z) \\right] \\delta p\\, \\text{d}z\n",
    "   \\\\\n",
    "   &= \\int \\limits_0^H \\left[ \\partial_z (\\delta p\\, q_z) - q_z \\partial_z \\delta p + \\partial_z \\dot{u}_z \\delta p + n\\beta_p \\dot{p} \\delta p \\right] \\, \\text{d}z\n",
    "\\end{align}"
   ]
  },
  {
   "cell_type": "markdown",
   "metadata": {},
   "source": [
    "Integrating the first term yields the natural/Neumann boundary conditions, so that\n",
    "$$\n",
    "\\left[ q_z \\delta p \\right]_0^H = \\int \\limits_0^H \\left[ \\partial_z \\delta p\\ q_z - n\\beta_p \\dot{p} \\delta p - \\delta p\\, \\partial_z \\dot{u}_z \\right] \\, \\text{d}z\n",
    "$$"
   ]
  },
  {
   "cell_type": "markdown",
   "metadata": {},
   "source": [
    "## Finite elements in 1D\n",
    "\n",
    "We first create an element class. An element knows the number of nodes it has, their IDs in the global node vector, and the coordinates of its nodes. Linear elements have 2 nodes and 2 quadrature points, quadratic elements 3 nodes and 3 quadrature points. The natural coordinates of the element run from -1 to 1, and the quadrature points and weights are directly taken from Numpy."
   ]
  },
  {
   "cell_type": "code",
   "execution_count": 2,
   "metadata": {},
   "outputs": [],
   "source": [
    "#element class\n",
    "class line_element():#local coordinates go from -1 to 1\n",
    "    #takes number of nodes, global nodal coordinates, global node ids\n",
    "    def __init__(self, nnodes=2, ncoords=[0.,1.], nids=[0,1]):\n",
    "        self.__nnodes = nnodes\n",
    "        if (len(ncoords) != self.__nnodes):\n",
    "            raise Exception(\"Number of coordinates does not match number \\\n",
    "                            of nodes of element (%i vs of %i)\" %(self.__nnodes,len(ncoords)))\n",
    "        else:\n",
    "            self.__coords = np.array(ncoords)\n",
    "        \n",
    "        self.__natural_coords = (self.__coords-self.__coords[0])/(self.__coords[-1]-self.__coords[0])*2. - 1.\n",
    "        \n",
    "        if (len(nids) != self.__nnodes):\n",
    "            raise Exception(\"Number of node IDs does not match number \\\n",
    "                            of nodes of element (%i vs of %i)\" %(self.__nnodes,len(nids)))\n",
    "        else:\n",
    "            self.__global_ids = np.array(nids)\n",
    "        self.__quad_degree = self.__nnodes\n",
    "        self.__quad_points, self.__quad_weights = np.polynomial.legendre.leggauss(self.__quad_degree)\n",
    "                "
   ]
  },
  {
   "cell_type": "markdown",
   "metadata": {},
   "source": [
    "Next, we wish to generate a one-dimensional mesh by specifying the length of a line, the number of elements into which the mesh is to be split, and the number of nodes per element."
   ]
  },
  {
   "cell_type": "code",
   "execution_count": 3,
   "metadata": {},
   "outputs": [],
   "source": [
    "def number_of_nodes(nelems,nodes_per_elem):\n",
    "    return nelems*nodes_per_elem - (nelems - 1)\n",
    "\n",
    "def generate_node_ids_u(num_iterations,max_order,p_order):\n",
    "    sequence = []\n",
    "    last_element = 0\n",
    "\n",
    "    for i in range(num_iterations):\n",
    "        if i == 0:\n",
    "            #el_tuple = [0, 1, 2]\n",
    "            el_tuple = [x for x in range(max_order)]\n",
    "        elif i == 1:\n",
    "            #el_tuple = [2, 5, 6]\n",
    "            el_tuple = [max_order-1,max_order+p_order]\n",
    "            for j in range(2,max_order):\n",
    "                el_tuple.append(el_tuple[-1]+1)\n",
    "        else:\n",
    "            #a = last_element\n",
    "            #b = a + max_order-1\n",
    "            #c = b + 1\n",
    "            #el_tuple = [a, b, c]\n",
    "            el_tuple = [last_element,last_element + p_order]\n",
    "            for j in range(2,max_order):\n",
    "                el_tuple.append(el_tuple[-1]+1)\n",
    "        \n",
    "        sequence.append(el_tuple)\n",
    "        last_element = el_tuple[-1]\n",
    "    return sequence\n",
    "\n",
    "def generate_node_ids_p(num_iterations,max_order,p_order):\n",
    "    sequence = []\n",
    "    last_element = max_order  # Start with the first element as 3\n",
    "\n",
    "    for i in range(num_iterations):\n",
    "        if i == 0:\n",
    "            #pair = (3, 4)\n",
    "            el_tuple = [x for x in range(max_order,max_order+p_order)]\n",
    "        else:\n",
    "            #a = last_element\n",
    "            #b = a + 3\n",
    "            #pair = (a, b)\n",
    "            el_tuple = [last_element, last_element+max_order]\n",
    "            for j in range(2,p_order):\n",
    "                el_tuple.append(el_tuple[-1]+1)\n",
    "        \n",
    "        sequence.append(el_tuple)\n",
    "        last_element = el_tuple[-1]\n",
    "    return sequence"
   ]
  },
  {
   "cell_type": "code",
   "execution_count": 4,
   "metadata": {},
   "outputs": [
    {
     "data": {
      "text/plain": [
       "'\\ndef generate_node_ids_u(num_iterations,max_order,p_order):\\n    sequence = []\\n    last_element = 0\\n\\n    for i in range(num_iterations):\\n        el_tuple = [last_element+x for x in range(max_order)]\\n        sequence.append(el_tuple)\\n        last_element = el_tuple[-1]\\n    return sequence\\n\\ndef generate_node_ids_p(num_iterations,max_order,p_order):\\n    sequence = []\\n    last_element = number_of_nodes(num_iterations,max_order)  # Start with the first element as 3\\n\\n    for i in range(num_iterations):\\n        el_tuple = [last_element+x for x in range(p_order)]\\n        sequence.append(el_tuple)\\n        last_element = el_tuple[-1]\\n    return sequence\\n'"
      ]
     },
     "execution_count": 4,
     "metadata": {},
     "output_type": "execute_result"
    }
   ],
   "source": [
    "#use this for consequtive node numbering (global system split in [u,p])\n",
    "'''\n",
    "def generate_node_ids_u(num_iterations,max_order,p_order):\n",
    "    sequence = []\n",
    "    last_element = 0\n",
    "\n",
    "    for i in range(num_iterations):\n",
    "        el_tuple = [last_element+x for x in range(max_order)]\n",
    "        sequence.append(el_tuple)\n",
    "        last_element = el_tuple[-1]\n",
    "    return sequence\n",
    "\n",
    "def generate_node_ids_p(num_iterations,max_order,p_order):\n",
    "    sequence = []\n",
    "    last_element = number_of_nodes(num_iterations,max_order)  # Start with the first element as 3\n",
    "\n",
    "    for i in range(num_iterations):\n",
    "        el_tuple = [last_element+x for x in range(p_order)]\n",
    "        sequence.append(el_tuple)\n",
    "        last_element = el_tuple[-1]\n",
    "    return sequence\n",
    "'''"
   ]
  },
  {
   "cell_type": "code",
   "execution_count": 5,
   "metadata": {},
   "outputs": [],
   "source": [
    "def generate_mesh(domain_length,nelems,nodes_per_elem_u,nodes_per_elem_p,eltype):\n",
    "    if (eltype=='u'):\n",
    "        nodes_per_elem = nodes_per_elem_u\n",
    "    elif (eltype=='p'):\n",
    "        nodes_per_elem = nodes_per_elem_p\n",
    "    nn = number_of_nodes(nelems,nodes_per_elem)\n",
    "    #coordinate vector of global nodes\n",
    "    global_nodal_coordinates = np.linspace(0.,domain_length,nn)\n",
    "    global_solution = np.array([0.]*nn)\n",
    "    \n",
    "    #generate elements\n",
    "    element_vector = []\n",
    "    if (eltype=='u'):\n",
    "        node_ids = generate_node_ids_u(nelems,nodes_per_elem_u,nodes_per_elem_p)\n",
    "    elif (eltype=='p'):\n",
    "        node_ids = generate_node_ids_p(nelems,nodes_per_elem_u,nodes_per_elem_p)\n",
    "    for i in range(nelems):\n",
    "        node_start = (nodes_per_elem-1)*i\n",
    "        node_start_id = (2*nodes_per_elem-2)*i\n",
    "        element_vector.append(\n",
    "            line_element(nodes_per_elem,\n",
    "                         global_nodal_coordinates[node_start:node_start+nodes_per_elem],\n",
    "                         node_ids[i]))\n",
    "        \n",
    "    return global_nodal_coordinates, element_vector, global_solution"
   ]
  },
  {
   "cell_type": "code",
   "execution_count": 6,
   "metadata": {},
   "outputs": [],
   "source": [
    "def split_sol(n_els, solution,max_order,p_order):\n",
    "    sol_u = np.array([])\n",
    "    sol_p = np.array([])\n",
    "    n_ids_u = np.unique([item for sublist in generate_node_ids_u(n_els,max_order,p_order) for item in sublist])\n",
    "    n_ids_p = np.unique([item for sublist in generate_node_ids_p(n_els,max_order,p_order) for item in sublist])\n",
    "    return solution[n_ids_u], solution[n_ids_p]"
   ]
  },
  {
   "cell_type": "code",
   "execution_count": 7,
   "metadata": {},
   "outputs": [],
   "source": [
    "#N\n",
    "def shape_function(element_order,xi):\n",
    "    if (element_order == 1):\n",
    "            return np.array([1])\n",
    "    elif (element_order == 2): #-1,1\n",
    "            return np.array([(1.-xi)/2., (1.+xi)/2.])\n",
    "    elif (element_order == 3): #-1, 0, 1\n",
    "            return np.array([(xi - 1.)*xi/2., (1-xi)*(1+xi), (1+xi)*xi/2.])\n",
    "    elif (element_order == 4): #-1, -1/3, 1/3, 1\n",
    "            return np.array([9/16*(1-xi)*(xi**2 - 1/9),\n",
    "                            27/16*(xi**2-1)*(xi-1/3),\n",
    "                            27/16*(1-xi**2)*(xi+1/3),\n",
    "                            9/16*(xi+1)*(xi**2-1/9)])\n",
    "        \n",
    "#dN_dxi\n",
    "def dshape_function_dxi(element_order,xi):\n",
    "    if (element_order == 1):\n",
    "            return np.array([0])\n",
    "    elif (element_order == 2): #-1,1\n",
    "        return np.array([-0.5, 0.5])  #xi only later for plotting dimensions\n",
    "    elif (element_order == 3):#-1,0,1\n",
    "        return np.array([xi - 0.5,-2.*xi,xi + 0.5])\n",
    "    elif (element_order == 4): #-1, -1/3, 1/3, 1\n",
    "            return np.array([-27*xi**2/16 + 9*xi/8 + 1/16,\n",
    "                            81/16*xi**2 - 9/8 * xi - 27/16, \n",
    "                            -81/16*xi**2 - 9/8 * xi +27/16,\n",
    "                            27*xi**2/16 + 9*xi/8 - 1/16])\n",
    "\n",
    "#dz_dxi\n",
    "def element_jacobian(element,xi):\n",
    "    element_order = element._line_element__nnodes\n",
    "    Jacobian = 0.\n",
    "    Jacobian += dshape_function_dxi(element_order,xi).dot(element._line_element__coords)\n",
    "    return Jacobian\n",
    "\n",
    "#dN_dz\n",
    "def grad_shape_function(element,xi):\n",
    "    element_order = element._line_element__nnodes\n",
    "    Jac = element_jacobian(element,xi)\n",
    "    return dshape_function_dxi(element_order,xi)/Jac"
   ]
  },
  {
   "cell_type": "markdown",
   "metadata": {},
   "source": [
    "## Discretization of virtual work (weak form)\n",
    "\n",
    "The discretized system is given as\n",
    "\n",
    "\\begin{align}\n",
    "    {\\sigma}_{zz}(z=H)\\delta_{in_\\text{n}} - {\\sigma}_{zz}(z=0) \\delta_{i0} + \\bigcup \\limits_{e=1}^{n_\\text{el}} \\int \\limits_{z_e} \\gamma_\\text{r} N^u_i \\det J \\, \\text{d}\\xi &= \\bigcup \\limits_{e=1}^{n_\\text{el}} \\int \\limits_{z_e} \\nabla N_i^u (\\sigma_{zz}' - p)\\det J  \\, \\text{d}\\xi\n",
    "    \\\\\n",
    "    {q}_{z}(z=H)\\delta_{in_\\text{n}} - {q}_{z}(z=0) \\delta_{i0} &= \\bigcup \\limits_{e=1}^{n_\\text{el}} \\int \\limits_{z_e} \\nabla N_i^p q_z \\det J  \\, \\text{d}\\xi - \\bigcup \\limits_{e=1}^{n_\\text{el}} \\int \\limits_{z_e} N_i^p \\left[ \\frac{\\partial_z u_z - \\partial_z u_z^\\text{prev}}{\\Delta t} + n\\beta_p\\frac{p - p^\\text{prev}}{\\Delta t} \\right]\\det J  \\, \\text{d}\\xi \n",
    "\\end{align}"
   ]
  },
  {
   "cell_type": "markdown",
   "metadata": {},
   "source": [
    "The latter equation was modified to yield a symmetric stiffness matrix:\n",
    "\n",
    "\\begin{align}\n",
    "    {\\sigma}_{zz}(z=H)\\delta_{in_\\text{n}} - {\\sigma}_{zz}(z=0) \\delta_{i0} + \\bigcup \\limits_{e=1}^{n_\\text{el}} \\int \\limits_{z_e} \\gamma_\\text{r} N^u_i \\det J \\, \\text{d}\\xi &= \\bigcup \\limits_{e=1}^{n_\\text{el}} \\int \\limits_{z_e} \\nabla N_i^u (\\sigma_{zz}' - p)\\det J  \\, \\text{d}\\xi\n",
    "    \\\\\n",
    "    {q}_{z}(z=H)\\delta_{in_\\text{n}} \\Delta t - {q}_{z}(z=0) \\delta_{i0} \\Delta t &= \\bigcup \\limits_{e=1}^{n_\\text{el}} \\int \\limits_{z_e} \\nabla N_i^p q_z \\Delta t\\det J  \\, \\text{d}\\xi - \\bigcup \\limits_{e=1}^{n_\\text{el}} \\int \\limits_{z_e} N_i^p \\left[ \\Delta \\partial_z u_z + n\\beta_p\\Delta p  \\right]\\det J  \\, \\text{d}\\xi \n",
    "\\end{align}"
   ]
  },
  {
   "cell_type": "markdown",
   "metadata": {},
   "source": [
    "What we require now is the local assembler to calculate the stiffness matrix and the local right-hand side. Local integration is performed by Gauss quadrature:\n",
    "\n",
    "$$\n",
    "    \\int \\limits_{-1}^1 f(\\xi)\\,\\text{d}\\xi \\approx \\sum \\limits_{i=1}^{n_\\text{gp}} f(\\xi_i) w_i \n",
    "$$"
   ]
  },
  {
   "cell_type": "markdown",
   "metadata": {},
   "source": [
    "## Local assember"
   ]
  },
  {
   "cell_type": "code",
   "execution_count": 8,
   "metadata": {},
   "outputs": [],
   "source": [
    "def Stiffness(z):\n",
    "    return 5e6\n",
    "\n",
    "def gamma_r(z):\n",
    "    return 22.e3\n",
    "\n",
    "def gamma_w():\n",
    "    return 9.81e3\n",
    "\n",
    "def Conductivity(z):\n",
    "    return 1e-5 / 1e4 # k/mu = k_f/gamma_w\n",
    "\n",
    "def Compressibility(z):\n",
    "    return 0"
   ]
  },
  {
   "cell_type": "code",
   "execution_count": 9,
   "metadata": {},
   "outputs": [],
   "source": [
    "def local_assembler_res_Jac(elem_u,elem_p,sol_u,sol_p,sol_u_prev,sol_p_prev,dt,fac=1):\n",
    "    order_u = elem_u._line_element__nnodes\n",
    "    order_p = elem_p._line_element__nnodes\n",
    "    res_loc = np.zeros(order_u + order_p)\n",
    "    K_loc = np.zeros((order_u + order_p,order_u + order_p))\n",
    "    z_nodes = elem_u._line_element__coords\n",
    "    for i in range(elem_u._line_element__quad_degree):\n",
    "        #local integration point coordinate\n",
    "        xi = elem_u._line_element__quad_points[i]\n",
    "        #shape function\n",
    "        N_u = shape_function(order_u,xi)\n",
    "        N_p = shape_function(order_p,xi)\n",
    "        #gradient of shape function\n",
    "        dN_u_dX = grad_shape_function(elem_u,xi)\n",
    "        dN_p_dX = grad_shape_function(elem_p,xi)\n",
    "        #determinant of Jacobian\n",
    "        detJ = np.abs(element_jacobian(elem_u,xi))\n",
    "        #integration weight\n",
    "        w = elem_u._line_element__quad_weights[i]        \n",
    "        #global integration point coordinate (for spatially varying properties)\n",
    "        z_glob = np.dot(N_u,z_nodes)\n",
    "        #evaluation of local material/structural properties\n",
    "        E = Stiffness(-np.dot(dN_u_dX,sol_u))\n",
    "        k_over_mu = Conductivity(-np.dot(dN_u_dX,sol_u))\n",
    "        beta = Compressibility(0)\n",
    "        #evaluation of local body force contributions\n",
    "        gr = 0.4 * gamma_w() #increment in body force\n",
    "        gw = gamma_w()\n",
    "        \n",
    "        #flux quantities\n",
    "        \n",
    "        q_z = - k_over_mu * (np.dot(dN_p_dX,sol_p) - gw)\n",
    "        #print(np.dot(dN_p_dX,sol_p), gw, gr, q_z)\n",
    "        s_z = E * np.dot(dN_u_dX,sol_u) - np.dot(N_p,sol_p)\n",
    "        delta_e_vol = np.dot(dN_u_dX,(sol_u - sol_u_prev))\n",
    "        delta_p = np.dot(N_p,(sol_p-sol_p_prev))\n",
    "               \n",
    "        res_u = dN_u_dX*s_z - N_u*gr\n",
    "        res_p = dN_p_dX*q_z*dt - N_p * (delta_e_vol + beta * delta_p)\n",
    "        \n",
    "        #assembly of local Jac\n",
    "        K_loc += np.block([[np.outer(dN_u_dX,dN_u_dX)*E, -np.outer(dN_u_dX,N_p)],\n",
    "                           [-np.outer(N_p,dN_u_dX), -np.outer(dN_p_dX,dN_p_dX)*k_over_mu*dt - np.outer(N_p,N_p)*beta]]) * w * detJ\n",
    "        \n",
    "        #assembly of local RHS\n",
    "        res_loc += np.block([res_u, res_p]) * w * detJ\n",
    "    return K_loc, res_loc"
   ]
  },
  {
   "cell_type": "code",
   "execution_count": 10,
   "metadata": {},
   "outputs": [],
   "source": [
    "#adapted to incremental scheme\n",
    "def apply_Dirichlet_bc(K_glob,b_glob,solution,node_id,value):\n",
    "    c = K_glob[node_id,node_id]\n",
    "    if c == 0:\n",
    "        c = 1\n",
    "    target = solution[node_id] - value\n",
    "    \n",
    "    #for i in range(len(b_glob)):\n",
    "    b_glob[:] -= K_glob[:,node_id] * target\n",
    "    b_glob[node_id] = c*target #no increment\n",
    "    K_glob[node_id,:] = 0.\n",
    "    K_glob[:,node_id] = 0.\n",
    "    \n",
    "    K_glob[node_id,node_id] = c\n",
    "\n",
    "    #solution[node_id] = value\n",
    "    return K_glob, b_glob"
   ]
  },
  {
   "cell_type": "markdown",
   "metadata": {},
   "source": [
    "Let's assume we start from $\\sigma = \\sigma' = u = 0$ at $t = 0$ in an unsaturated element that we completely saturate. Thus $\\Delta u |_\\text{top} = 0$ and $\\Delta u |_\\text{bot} = \\gamma_\\text{w} \\Delta z$.\n",
    "\n",
    "Boundary conditions are $\\Delta \\sigma |_\\text{top} = 0$ and $u_z |_\\text{bot} = \\Delta u_z |_\\text{bot} = 0$. Body force loading in the integration point will be $n \\gamma_\\text{w}$ independent of location."
   ]
  },
  {
   "cell_type": "code",
   "execution_count": 11,
   "metadata": {},
   "outputs": [],
   "source": [
    "number_of_elements = 1\n",
    "L = 1\n",
    "nodes_per_element_u = 3\n",
    "nodes_per_element_p = 2\n",
    "\n",
    "nodes_u,elements_u,solution_u=generate_mesh(L,number_of_elements,nodes_per_element_u,nodes_per_element_p,'u')\n",
    "nodes_p,elements_p,solution_p=generate_mesh(L,number_of_elements,nodes_per_element_u,nodes_per_element_p,'p')"
   ]
  },
  {
   "cell_type": "code",
   "execution_count": 12,
   "metadata": {},
   "outputs": [
    {
     "data": {
      "text/plain": [
       "array([   0., 9810.])"
      ]
     },
     "execution_count": 12,
     "metadata": {},
     "output_type": "execute_result"
    }
   ],
   "source": [
    "#setting pore pressure increment\n",
    "solution_p[-1] = gamma_w()*L\n",
    "solution_p"
   ]
  },
  {
   "cell_type": "code",
   "execution_count": 13,
   "metadata": {},
   "outputs": [],
   "source": [
    "solution = np.append(solution_u,solution_p)"
   ]
  },
  {
   "cell_type": "code",
   "execution_count": 14,
   "metadata": {},
   "outputs": [],
   "source": [
    "n_ids_u = np.unique([item for sublist in generate_node_ids_u(len(elements_u),elements_u[0]._line_element__nnodes,elements_p[0]._line_element__nnodes) for item in sublist])\n",
    "n_ids_p = np.unique([item for sublist in generate_node_ids_p(len(elements_u),elements_u[0]._line_element__nnodes,elements_p[0]._line_element__nnodes) for item in sublist])"
   ]
  },
  {
   "cell_type": "code",
   "execution_count": 15,
   "metadata": {},
   "outputs": [],
   "source": [
    "K, res = local_assembler_res_Jac(elements_u[0],elements_p[0],solution_u,solution_p,solution_u,solution_p,1)"
   ]
  },
  {
   "cell_type": "code",
   "execution_count": 16,
   "metadata": {},
   "outputs": [],
   "source": [
    "K, res = apply_Dirichlet_bc(K, res, solution, n_ids_u[-1], 0)"
   ]
  },
  {
   "cell_type": "code",
   "execution_count": 17,
   "metadata": {},
   "outputs": [],
   "source": [
    "for i in range(len(n_ids_p)):\n",
    "    K, res = apply_Dirichlet_bc(K, res, solution, n_ids_p[i], gamma_w()*nodes_p[i])"
   ]
  },
  {
   "cell_type": "code",
   "execution_count": 18,
   "metadata": {},
   "outputs": [
    {
     "data": {
      "text/plain": [
       "array([-0.0005886 , -0.00044145,  0.        , -0.        , -0.        ])"
      ]
     },
     "execution_count": 18,
     "metadata": {},
     "output_type": "execute_result"
    }
   ],
   "source": [
    "du = np.linalg.solve(K,-res)\n",
    "du"
   ]
  },
  {
   "cell_type": "code",
   "execution_count": 23,
   "metadata": {},
   "outputs": [
    {
     "data": {
      "text/plain": [
       "np.float64(-5000000.0)"
      ]
     },
     "execution_count": 23,
     "metadata": {},
     "output_type": "execute_result"
    }
   ],
   "source": [
    "gamma_w()*0.6/du[0]/2"
   ]
  },
  {
   "cell_type": "code",
   "execution_count": 22,
   "metadata": {},
   "outputs": [
    {
     "data": {
      "text/plain": [
       "np.float64(-0.0005886)"
      ]
     },
     "execution_count": 22,
     "metadata": {},
     "output_type": "execute_result"
    }
   ],
   "source": []
  },
  {
   "cell_type": "code",
   "execution_count": null,
   "metadata": {},
   "outputs": [],
   "source": []
  }
 ],
 "metadata": {
  "kernelspec": {
   "display_name": "Python 3 (ipykernel)",
   "language": "python",
   "name": "python3"
  },
  "language_info": {
   "codemirror_mode": {
    "name": "ipython",
    "version": 3
   },
   "file_extension": ".py",
   "mimetype": "text/x-python",
   "name": "python",
   "nbconvert_exporter": "python",
   "pygments_lexer": "ipython3",
   "version": "3.12.7"
  },
  "widgets": {
   "application/vnd.jupyter.widget-state+json": {
    "state": {},
    "version_major": 2,
    "version_minor": 0
   }
  }
 },
 "nbformat": 4,
 "nbformat_minor": 4
}
